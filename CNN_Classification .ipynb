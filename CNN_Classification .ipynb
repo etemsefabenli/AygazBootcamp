{
  "nbformat": 4,
  "nbformat_minor": 0,
  "metadata": {
    "colab": {
      "provenance": []
    },
    "kernelspec": {
      "name": "python3",
      "display_name": "Python 3"
    },
    "language_info": {
      "name": "python"
    }
  },
  "cells": [
    {
      "cell_type": "markdown",
      "source": [
        "#aygazgoruntuisleme\n",
        "\n",
        "\n"
      ],
      "metadata": {
        "id": "iK_2iyYKIKEl"
      }
    },
    {
      "cell_type": "code",
      "source": [
        "#This project was created for GlobalAIHub.\n",
        "#Its main purpose is to create a CNN (Convolutional Neural Network) model by extracting certain animal classes\n",
        "#from the given image pool and build a *Classification* algorithm."
      ],
      "metadata": {
        "id": "CKMbFrVUOokW"
      },
      "execution_count": null,
      "outputs": []
    },
    {
      "cell_type": "markdown",
      "source": [
        "## 1-Installing the necessary **libraries**"
      ],
      "metadata": {
        "id": "2mqk39DBOv_o"
      }
    },
    {
      "cell_type": "code",
      "source": [
        "import os\n",
        "import numpy as np\n",
        "import cv2\n",
        "import kagglehub\n",
        "import shutil\n",
        "import random\n",
        "\n",
        "import tensorflow as tf\n",
        "import matplotlib.pyplot as plt\n",
        "\n",
        "from sklearn.model_selection import train_test_split\n",
        "from sklearn.preprocessing import LabelEncoder\n",
        "from tensorflow.keras.utils import to_categorical\n",
        "from tensorflow.keras.preprocessing.image import ImageDataGenerator\n",
        "from tensorflow.keras.models import Sequential\n",
        "from tensorflow.keras.layers import Conv2D, MaxPooling2D, Flatten, Dense, Dropout, Input\n",
        "from tensorflow.keras.optimizers import Adam\n",
        "from PIL import Image, ImageEnhance, ImageOps\n"
      ],
      "metadata": {
        "id": "aiENuScrTnvB"
      },
      "execution_count": 1,
      "outputs": []
    },
    {
      "cell_type": "markdown",
      "source": [
        "##2-Obtaining the data set and preprocces"
      ],
      "metadata": {
        "id": "zaeTM4fJNK1c"
      }
    },
    {
      "cell_type": "markdown",
      "source": [
        "### 2.1 - Dataset filter method"
      ],
      "metadata": {
        "id": "EZu-hH9-Wi9Q"
      }
    },
    {
      "cell_type": "code",
      "source": [
        "#Dataset filter method\n",
        "\n",
        "def create_filtered_dataset(source_dir, target_dir, selected_animals, max_images_per_animal):\n",
        "\n",
        "    if not os.path.exists(target_dir):\n",
        "        os.makedirs(target_dir)\n",
        "\n",
        "    for animal in selected_animals:\n",
        "        source_animal_dir = os.path.join(source_dir, animal)\n",
        "        target_animal_dir = os.path.join(target_dir, animal)\n",
        "\n",
        "        if not os.path.exists(source_animal_dir):\n",
        "            print(f\"folder not found: {source_animal_dir}\")\n",
        "            continue\n",
        "\n",
        "        if not os.path.exists(target_animal_dir):\n",
        "            os.makedirs(target_animal_dir)\n",
        "\n",
        "        # Take all pic in folder\n",
        "        all_images = [f for f in os.listdir(source_animal_dir) if os.path.isfile(os.path.join(source_animal_dir, f))]\n",
        "\n",
        "        # Shuffle the images and select the specified amount\n",
        "        selected_images = random.sample(all_images, min(len(all_images), max_images_per_animal))\n",
        "\n",
        "        for image in selected_images:\n",
        "            source_image_path = os.path.join(source_animal_dir, image)\n",
        "            target_image_path = os.path.join(target_animal_dir, image)\n",
        "\n",
        "            shutil.copy(source_image_path, target_image_path)\n",
        "\n",
        "\n",
        "\n",
        "    print(\"Copy Succesfull!\")"
      ],
      "metadata": {
        "id": "OUcJJ3rpR8gc"
      },
      "execution_count": 2,
      "outputs": []
    },
    {
      "cell_type": "markdown",
      "source": [
        "###2.2 - **Download** the dataset from \"Kaggle\""
      ],
      "metadata": {
        "id": "Bb4TRjFUWqmd"
      }
    },
    {
      "cell_type": "code",
      "source": [
        "#Download the dataset from \"Kaggle\"\n",
        "\n",
        "rrebirrth_animals_with_attributes_2_path = kagglehub.dataset_download('rrebirrth/animals-with-attributes-2')\n",
        "\n",
        "print('Data source import complete.')\n",
        "\n",
        "# Initialize the dictionary to hold paths for each animal\n",
        "image_paths = {}\n",
        "\n",
        "#Base directory for your dataset\n",
        "base_path = \"/root/.cache/kagglehub/datasets/rrebirrth/animals-with-attributes-2/versions/1/Animals_with_Attributes2/JPEGImages/\"\n",
        "\n",
        "#Target directory for new dataset\n",
        "target_path = \"filteredImages\"\n",
        "\n",
        "#List of animals to search for\n",
        "selected_animals = [\"collie\", \"dolphin\", \"elephant\", \"fox\", \"moose\", \"rabbit\", \"sheep\", \"squirrel\", \"giant+panda\", \"polar+bear\"]\n",
        "\n",
        "#How many images to get from each class\n",
        "images_per_class = 650\n",
        "\n",
        "#Call methods for filter\n",
        "create_filtered_dataset(base_path, target_path, selected_animals, images_per_class)"
      ],
      "metadata": {
        "id": "5SH3cXOmTqsS",
        "colab": {
          "base_uri": "https://localhost:8080/"
        },
        "collapsed": true,
        "outputId": "76b2165c-0cd4-4893-96ff-d7a9f533ff37"
      },
      "execution_count": 3,
      "outputs": [
        {
          "output_type": "stream",
          "name": "stdout",
          "text": [
            "Warning: Looks like you're using an outdated `kagglehub` version (installed: 0.3.5), please consider upgrading to the latest version (0.3.6).\n",
            "Downloading from https://www.kaggle.com/api/v1/datasets/download/rrebirrth/animals-with-attributes-2?dataset_version_number=1...\n"
          ]
        },
        {
          "output_type": "stream",
          "name": "stderr",
          "text": [
            "100%|██████████| 13.0G/13.0G [02:43<00:00, 84.9MB/s]"
          ]
        },
        {
          "output_type": "stream",
          "name": "stdout",
          "text": [
            "Extracting files...\n"
          ]
        },
        {
          "output_type": "stream",
          "name": "stderr",
          "text": [
            "\n"
          ]
        },
        {
          "output_type": "stream",
          "name": "stdout",
          "text": [
            "Data source import complete.\n",
            "Copy Succesfull!\n"
          ]
        }
      ]
    },
    {
      "cell_type": "markdown",
      "source": [
        "###2.3.1 - Resizing and Normalization Method\n",
        "\n",
        "\n"
      ],
      "metadata": {
        "id": "ynWUgWXBWejQ"
      }
    },
    {
      "cell_type": "code",
      "source": [
        "#Resize and Normalization\n",
        "def load_and_process_images(data_dir, image_size=(128, 128)):\n",
        "    images = []\n",
        "    labels = []\n",
        "    for class_name in os.listdir(data_dir):\n",
        "        class_path = os.path.join(data_dir, class_name)\n",
        "        if os.path.isdir(class_path):\n",
        "            for file_name in os.listdir(class_path):\n",
        "                file_path = os.path.join(class_path, file_name)\n",
        "                img = cv2.imread(file_path)\n",
        "                if img is not None:\n",
        "                    img_resized = cv2.resize(img, image_size)\n",
        "                    img_normalized = img_resized / 255.0\n",
        "                    images.append(img_normalized)\n",
        "                    labels.append(class_name)\n",
        "    return np.array(images), np.array(labels)"
      ],
      "metadata": {
        "id": "KQNmyloeSAd2"
      },
      "execution_count": 4,
      "outputs": []
    },
    {
      "cell_type": "markdown",
      "source": [
        "###2.3.2- Resizing and Normalization"
      ],
      "metadata": {
        "id": "G1km0u90eJju"
      }
    },
    {
      "cell_type": "code",
      "source": [
        "data_dir = target_path\n",
        "\n",
        "X, y = load_and_process_images(data_dir)\n",
        "\n",
        "print(f\"dataset size: {X.shape}\")"
      ],
      "metadata": {
        "id": "mD7tMPwZeJpp",
        "colab": {
          "base_uri": "https://localhost:8080/"
        },
        "outputId": "1dbb0b1b-c662-4c1b-c267-2060cb67bff2"
      },
      "execution_count": 5,
      "outputs": [
        {
          "output_type": "stream",
          "name": "stdout",
          "text": [
            "dataset size: (6500, 128, 128, 3)\n"
          ]
        }
      ]
    },
    {
      "cell_type": "markdown",
      "source": [
        "###2.4 - Train-Test Split\n"
      ],
      "metadata": {
        "id": "liD07R5OhVzR"
      }
    },
    {
      "cell_type": "code",
      "source": [
        "encoder = LabelEncoder()\n",
        "y_encoded = encoder.fit_transform(y)\n",
        "y_categorical = to_categorical(y_encoded)\n",
        "\n",
        "# Split the dataset(%70 for Train, %30 for Test)\n",
        "X_train, X_test, y_train, y_test = train_test_split(X, y_categorical, test_size=0.3, random_state=40)\n",
        "print(f\"Traind data size: {X_train.shape}, Test data size: {X_test.shape}\")"
      ],
      "metadata": {
        "id": "ed85yJEFkPlp",
        "colab": {
          "base_uri": "https://localhost:8080/"
        },
        "outputId": "16175c23-75d5-43da-eadf-277ebc80a967"
      },
      "execution_count": 9,
      "outputs": [
        {
          "output_type": "stream",
          "name": "stdout",
          "text": [
            "Traind data size: (5961, 128, 128, 3), Test data size: (2556, 128, 128, 3)\n"
          ]
        }
      ]
    },
    {
      "cell_type": "markdown",
      "source": [
        "##3- Augmentation"
      ],
      "metadata": {
        "id": "1fDQIL3Lp2cy"
      }
    },
    {
      "cell_type": "code",
      "source": [
        "datagen = ImageDataGenerator(\n",
        "    rotation_range=20,\n",
        "    width_shift_range=0.2,\n",
        "    height_shift_range=0.2,\n",
        "    shear_range=0.2,\n",
        "    zoom_range=0.2,\n",
        "    horizontal_flip=True,\n",
        "    fill_mode='nearest'\n",
        ")\n",
        "datagen.fit(X_train)"
      ],
      "metadata": {
        "id": "H_3kLWl-p2na"
      },
      "execution_count": 10,
      "outputs": []
    },
    {
      "cell_type": "markdown",
      "source": [
        "##4-Create the CNN Model"
      ],
      "metadata": {
        "id": "VANp54Ev_e3b"
      }
    },
    {
      "cell_type": "code",
      "source": [
        "# model\n",
        "model = Sequential([\n",
        "    Input(shape=(128, 128, 3)),  # Burada Input kullanılıyor\n",
        "    Conv2D(32, (3, 3), activation='relu'),\n",
        "    MaxPooling2D(pool_size=(2, 2)),\n",
        "    Flatten(),\n",
        "    Dense(128, activation='relu'),\n",
        "    Dense(10, activation='softmax')\n",
        "])\n",
        "\n",
        "\n",
        "# compile\n",
        "model.compile(\n",
        "    optimizer=Adam(learning_rate=0.001),\n",
        "    loss='categorical_crossentropy',\n",
        "    metrics=['accuracy']\n",
        ")\n",
        "# augmentation\n",
        "datagen = ImageDataGenerator(\n",
        "    rotation_range=20,\n",
        "    width_shift_range=0.1,\n",
        "    height_shift_range=0.1,\n",
        "    horizontal_flip=True\n",
        ")\n",
        "\n",
        "\n",
        "\n",
        "# traing and test generator\n",
        "train_generator = datagen.flow(X_train, y_train, batch_size=32)\n",
        "validation_generator = datagen.flow(X_test, y_test, batch_size=32)\n",
        "\n",
        "# steps_per_epoch ve validation_steps\n",
        "steps_per_epoch = len(X_train) // 32\n",
        "validation_steps = len(X_test) // 32\n",
        "\n",
        "# train the cnn model\n",
        "history = model.fit(\n",
        "    train_generator,\n",
        "    validation_data=validation_generator,\n",
        "    epochs=20,\n",
        "    steps_per_epoch=steps_per_epoch,\n",
        "    validation_steps=validation_steps\n",
        ")"
      ],
      "metadata": {
        "id": "amn3TdG6_eu1",
        "colab": {
          "base_uri": "https://localhost:8080/"
        },
        "outputId": "57d93c14-f90e-43ee-f57e-9f962010920f"
      },
      "execution_count": 11,
      "outputs": [
        {
          "metadata": {
            "tags": null
          },
          "name": "stdout",
          "output_type": "stream",
          "text": [
            "Epoch 1/20\n"
          ]
        },
        {
          "metadata": {
            "tags": null
          },
          "name": "stderr",
          "output_type": "stream",
          "text": [
            "/usr/local/lib/python3.10/dist-packages/keras/src/trainers/data_adapters/py_dataset_adapter.py:122: UserWarning: Your `PyDataset` class should call `super().__init__(**kwargs)` in its constructor. `**kwargs` can include `workers`, `use_multiprocessing`, `max_queue_size`. Do not pass these arguments to `fit()`, as they will be ignored.\n",
            "  self._warn_if_super_not_called()\n"
          ]
        },
        {
          "metadata": {
            "tags": null
          },
          "name": "stdout",
          "output_type": "stream",
          "text": [
            "\u001b[1m186/186\u001b[0m \u001b[32m━━━━━━━━━━━━━━━━━━━━\u001b[0m\u001b[37m\u001b[0m \u001b[1m185s\u001b[0m 972ms/step - accuracy: 0.2300 - loss: 3.4377 - val_accuracy: 0.4066 - val_loss: 1.7042\n",
            "Epoch 2/20\n",
            "\u001b[1m  1/186\u001b[0m \u001b[37m━━━━━━━━━━━━━━━━━━━━\u001b[0m \u001b[1m2:11\u001b[0m 711ms/step - accuracy: 0.3750 - loss: 1.7693"
          ]
        },
        {
          "metadata": {
            "tags": null
          },
          "name": "stderr",
          "output_type": "stream",
          "text": [
            "/usr/lib/python3.10/contextlib.py:153: UserWarning: Your input ran out of data; interrupting training. Make sure that your dataset or generator can generate at least `steps_per_epoch * epochs` batches. You may need to use the `.repeat()` function when building your dataset.\n",
            "  self.gen.throw(typ, value, traceback)\n"
          ]
        },
        {
          "output_type": "stream",
          "name": "stdout",
          "text": [
            "\u001b[1m186/186\u001b[0m \u001b[32m━━━━━━━━━━━━━━━━━━━━\u001b[0m\u001b[37m\u001b[0m \u001b[1m11s\u001b[0m 57ms/step - accuracy: 0.3750 - loss: 1.7693 - val_accuracy: 0.2143 - val_loss: 2.0904\n",
            "Epoch 3/20\n",
            "\u001b[1m186/186\u001b[0m \u001b[32m━━━━━━━━━━━━━━━━━━━━\u001b[0m\u001b[37m\u001b[0m \u001b[1m176s\u001b[0m 942ms/step - accuracy: 0.4476 - loss: 1.5944 - val_accuracy: 0.5012 - val_loss: 1.4632\n",
            "Epoch 4/20\n",
            "\u001b[1m186/186\u001b[0m \u001b[32m━━━━━━━━━━━━━━━━━━━━\u001b[0m\u001b[37m\u001b[0m \u001b[1m17s\u001b[0m 87ms/step - accuracy: 0.6562 - loss: 1.2819 - val_accuracy: 0.5000 - val_loss: 1.6064\n",
            "Epoch 5/20\n",
            "\u001b[1m186/186\u001b[0m \u001b[32m━━━━━━━━━━━━━━━━━━━━\u001b[0m\u001b[37m\u001b[0m \u001b[1m182s\u001b[0m 926ms/step - accuracy: 0.5003 - loss: 1.4666 - val_accuracy: 0.5237 - val_loss: 1.4236\n",
            "Epoch 6/20\n",
            "\u001b[1m186/186\u001b[0m \u001b[32m━━━━━━━━━━━━━━━━━━━━\u001b[0m\u001b[37m\u001b[0m \u001b[1m1s\u001b[0m 719us/step - accuracy: 0.5312 - loss: 1.3298 - val_accuracy: 0.6071 - val_loss: 1.2782\n",
            "Epoch 7/20\n",
            "\u001b[1m186/186\u001b[0m \u001b[32m━━━━━━━━━━━━━━━━━━━━\u001b[0m\u001b[37m\u001b[0m \u001b[1m176s\u001b[0m 938ms/step - accuracy: 0.5321 - loss: 1.3875 - val_accuracy: 0.5427 - val_loss: 1.3651\n",
            "Epoch 8/20\n",
            "\u001b[1m186/186\u001b[0m \u001b[32m━━━━━━━━━━━━━━━━━━━━\u001b[0m\u001b[37m\u001b[0m \u001b[1m1s\u001b[0m 600us/step - accuracy: 0.5938 - loss: 1.3906 - val_accuracy: 0.6071 - val_loss: 1.0819\n",
            "Epoch 9/20\n",
            "\u001b[1m186/186\u001b[0m \u001b[32m━━━━━━━━━━━━━━━━━━━━\u001b[0m\u001b[37m\u001b[0m \u001b[1m176s\u001b[0m 936ms/step - accuracy: 0.5353 - loss: 1.3539 - val_accuracy: 0.5494 - val_loss: 1.3422\n",
            "Epoch 10/20\n",
            "\u001b[1m186/186\u001b[0m \u001b[32m━━━━━━━━━━━━━━━━━━━━\u001b[0m\u001b[37m\u001b[0m \u001b[1m1s\u001b[0m 1ms/step - accuracy: 0.4688 - loss: 1.4469 - val_accuracy: 0.2500 - val_loss: 1.9490\n",
            "Epoch 11/20\n",
            "\u001b[1m186/186\u001b[0m \u001b[32m━━━━━━━━━━━━━━━━━━━━\u001b[0m\u001b[37m\u001b[0m \u001b[1m201s\u001b[0m 942ms/step - accuracy: 0.5747 - loss: 1.2930 - val_accuracy: 0.5688 - val_loss: 1.2817\n",
            "Epoch 12/20\n",
            "\u001b[1m186/186\u001b[0m \u001b[32m━━━━━━━━━━━━━━━━━━━━\u001b[0m\u001b[37m\u001b[0m \u001b[1m1s\u001b[0m 620us/step - accuracy: 0.7500 - loss: 0.7896 - val_accuracy: 0.7143 - val_loss: 0.9678\n",
            "Epoch 13/20\n",
            "\u001b[1m186/186\u001b[0m \u001b[32m━━━━━━━━━━━━━━━━━━━━\u001b[0m\u001b[37m\u001b[0m \u001b[1m179s\u001b[0m 955ms/step - accuracy: 0.5794 - loss: 1.2440 - val_accuracy: 0.5554 - val_loss: 1.3283\n",
            "Epoch 14/20\n",
            "\u001b[1m186/186\u001b[0m \u001b[32m━━━━━━━━━━━━━━━━━━━━\u001b[0m\u001b[37m\u001b[0m \u001b[1m1s\u001b[0m 742us/step - accuracy: 0.4375 - loss: 1.2775 - val_accuracy: 0.6071 - val_loss: 1.2211\n",
            "Epoch 15/20\n",
            "\u001b[1m186/186\u001b[0m \u001b[32m━━━━━━━━━━━━━━━━━━━━\u001b[0m\u001b[37m\u001b[0m \u001b[1m198s\u001b[0m 938ms/step - accuracy: 0.5791 - loss: 1.2091 - val_accuracy: 0.5720 - val_loss: 1.2672\n",
            "Epoch 16/20\n",
            "\u001b[1m186/186\u001b[0m \u001b[32m━━━━━━━━━━━━━━━━━━━━\u001b[0m\u001b[37m\u001b[0m \u001b[1m1s\u001b[0m 682us/step - accuracy: 0.6250 - loss: 1.2306 - val_accuracy: 0.5714 - val_loss: 1.3323\n",
            "Epoch 17/20\n",
            "\u001b[1m186/186\u001b[0m \u001b[32m━━━━━━━━━━━━━━━━━━━━\u001b[0m\u001b[37m\u001b[0m \u001b[1m202s\u001b[0m 939ms/step - accuracy: 0.5905 - loss: 1.2119 - val_accuracy: 0.5973 - val_loss: 1.2148\n",
            "Epoch 18/20\n",
            "\u001b[1m186/186\u001b[0m \u001b[32m━━━━━━━━━━━━━━━━━━━━\u001b[0m\u001b[37m\u001b[0m \u001b[1m1s\u001b[0m 583us/step - accuracy: 0.5312 - loss: 1.2568 - val_accuracy: 0.4643 - val_loss: 1.3790\n",
            "Epoch 19/20\n",
            "\u001b[1m186/186\u001b[0m \u001b[32m━━━━━━━━━━━━━━━━━━━━\u001b[0m\u001b[37m\u001b[0m \u001b[1m174s\u001b[0m 933ms/step - accuracy: 0.5963 - loss: 1.1754 - val_accuracy: 0.5811 - val_loss: 1.2657\n",
            "Epoch 20/20\n",
            "\u001b[1m186/186\u001b[0m \u001b[32m━━━━━━━━━━━━━━━━━━━━\u001b[0m\u001b[37m\u001b[0m \u001b[1m1s\u001b[0m 582us/step - accuracy: 0.5938 - loss: 1.1376 - val_accuracy: 0.7500 - val_loss: 0.7674\n"
          ]
        }
      ]
    },
    {
      "cell_type": "code",
      "source": [
        "#Model Test\n",
        "test_loss, test_accuracy = model.evaluate(X_test, y_test)\n",
        "print(f\"Test Doğruluğu: {test_accuracy * 100:.2f}%\")"
      ],
      "metadata": {
        "colab": {
          "base_uri": "https://localhost:8080/"
        },
        "id": "Q0a9CL9GA2AZ",
        "outputId": "3880619a-f40e-4c37-a12c-7eb28d8b6a12"
      },
      "execution_count": 29,
      "outputs": [
        {
          "output_type": "stream",
          "name": "stdout",
          "text": [
            "\u001b[1m80/80\u001b[0m \u001b[32m━━━━━━━━━━━━━━━━━━━━\u001b[0m\u001b[37m\u001b[0m \u001b[1m14s\u001b[0m 169ms/step - accuracy: 0.6159 - loss: 1.1502\n",
            "Test Doğruluğu: 60.84%\n"
          ]
        }
      ]
    },
    {
      "cell_type": "markdown",
      "source": [
        "##4.2 - Model Test and Data Visualise"
      ],
      "metadata": {
        "id": "DO9q9-aGKcAT"
      }
    },
    {
      "cell_type": "code",
      "source": [
        "# Extract training and validation values and determine epochs\n",
        "acc, val_acc, loss, val_loss, epochs = history.history['accuracy'], history.history['val_accuracy'], history.history['loss'], history.history['val_loss'], range(1, len(history.history['accuracy']) + 1)\n",
        "\n",
        "# Training and verification accuracy\n",
        "plt.figure(figsize=(10, 4))\n",
        "plt.subplot(1, 2, 1); plt.plot(epochs, acc, 'b-', label='Training'); plt.plot(epochs, val_acc, 'r-', label='Validation'); plt.title('Accuracy'); plt.xlabel('Epochs'); plt.ylabel('Accuracy'); plt.legend()\n",
        "\n",
        "plt.tight_layout(); plt.show()\n"
      ],
      "metadata": {
        "colab": {
          "base_uri": "https://localhost:8080/",
          "height": 407
        },
        "id": "CGYGKMwoKb52",
        "outputId": "e28cd2ab-5a19-4044-fdfb-a42c591bfbfa"
      },
      "execution_count": 12,
      "outputs": [
        {
          "output_type": "display_data",
          "data": {
            "text/plain": [
              "<Figure size 1000x400 with 1 Axes>"
            ],
            "image/png": "[encoded data removed]"
          },
          "metadata": {}
        }
      ]
    },
    {
      "cell_type": "markdown",
      "source": [
        "##5.1 - Manipulate Methods"
      ],
      "metadata": {
        "id": "ycO3xNNHZpRo"
      }
    },
    {
      "cell_type": "code",
      "source": [
        "## Manipulate Methods.\n",
        "def get_manipulated_images(images):\n",
        "    manipulated_images = []\n",
        "    for img in images:\n",
        "        manipulated = cv2.convertScaleAbs(img, alpha=0.8, beta=30)\n",
        "        manipulated_images.append(manipulated)\n",
        "    return np.array(manipulated_images)\n"
      ],
      "metadata": {
        "id": "Ny4ePl98ZpZp"
      },
      "execution_count": 22,
      "outputs": []
    },
    {
      "cell_type": "markdown",
      "source": [
        "##5.2 - Manipulate Images"
      ],
      "metadata": {
        "id": "BH-A4UZXacBT"
      }
    },
    {
      "cell_type": "code",
      "source": [
        "X_test_manipulated = get_manipulated_images(X_test)\n",
        "manipulated_loss, manipulated_accuracy = model.evaluate(X_test_manipulated, y_test)\n",
        "print(f\"Model accuracy on manipulated data set:{manipulated_accuracy * 100:.2f}\")"
      ],
      "metadata": {
        "id": "KcFEX3m_ablw",
        "colab": {
          "base_uri": "https://localhost:8080/"
        },
        "outputId": "ca891986-d11e-4a43-e44d-eaeb4146cbc4"
      },
      "execution_count": 24,
      "outputs": [
        {
          "output_type": "stream",
          "name": "stdout",
          "text": [
            "\u001b[1m80/80\u001b[0m \u001b[32m━━━━━━━━━━━━━━━━━━━━\u001b[0m\u001b[37m\u001b[0m \u001b[1m14s\u001b[0m 168ms/step - accuracy: 0.0925 - loss: 246.1040\n",
            "Model accuracy on manipulated data set:9.70\n"
          ]
        }
      ]
    },
    {
      "cell_type": "markdown",
      "source": [
        "##6.1 - Gray World Algorithm"
      ],
      "metadata": {
        "id": "Ez_ACWjw_IjJ"
      }
    },
    {
      "cell_type": "code",
      "source": [
        "def apply_gray_world(image):\n",
        "    avg_b, avg_g, avg_r = cv2.mean(image)[:3]\n",
        "    gray_value = (avg_b + avg_g + avg_r) / 3\n",
        "    scaling_factors = np.array([gray_value / avg_b, gray_value / avg_g, gray_value / avg_r])\n",
        "    corrected_image = image * scaling_factors  # Her kanal için ayrı ölçekleme\n",
        "    corrected_image = np.clip(corrected_image, 0, 255).astype(np.uint8)\n",
        "    return corrected_image\n"
      ],
      "metadata": {
        "id": "fFojMBUY_IcA"
      },
      "execution_count": 26,
      "outputs": []
    },
    {
      "cell_type": "code",
      "source": [
        "X_test_corrected = np.array([apply_gray_world(img) for img in X_test_manipulated])\n",
        "\n",
        "corrected_loss, corrected_accuracy = model.evaluate(X_test_corrected, y_test)\n",
        "print(f\"Test Accuracy with Color Constancy Applied: {corrected_accuracy * 100:.2f}%\")"
      ],
      "metadata": {
        "colab": {
          "base_uri": "https://localhost:8080/"
        },
        "id": "37s5bRod_X6U",
        "outputId": "86e3f7d6-14c5-487d-9bbb-4409d86659b4"
      },
      "execution_count": 27,
      "outputs": [
        {
          "output_type": "stream",
          "name": "stdout",
          "text": [
            "\u001b[1m80/80\u001b[0m \u001b[32m━━━━━━━━━━━━━━━━━━━━\u001b[0m\u001b[37m\u001b[0m \u001b[1m13s\u001b[0m 169ms/step - accuracy: 0.0925 - loss: 237.9681\n",
            "Test Accuracy with Color Constancy Applied: 9.70%\n"
          ]
        }
      ]
    },
    {
      "cell_type": "markdown",
      "source": [
        "#7 - Results"
      ],
      "metadata": {
        "id": "nacwVVW0AJHI"
      }
    },
    {
      "cell_type": "code",
      "source": [
        "print(\"Results:\")\n",
        "print(f\"Original Test Set Accuracy: {test_accuracy * 100:.2f}%\")\n",
        "print(f\"Manipulated Test Set Accuracy: {manipulated_accuracy * 100:.2f}%\")\n",
        "print(f\"Test Set Accuracy with Color Constancy Applied: {corrected_accuracy * 100:.2f}%\")"
      ],
      "metadata": {
        "colab": {
          "base_uri": "https://localhost:8080/"
        },
        "id": "xJYYFsnc_7Ui",
        "outputId": "ae50d499-35c0-4391-f854-ce4962a3e2ba"
      },
      "execution_count": 30,
      "outputs": [
        {
          "output_type": "stream",
          "name": "stdout",
          "text": [
            "Results:\n",
            "Original Test Set Accuracy: 60.84%\n",
            "Manipulated Test Set Accuracy: 9.70%\n",
            "Test Set Accuracy with Color Constancy Applied: 9.70%\n"
          ]
        }
      ]
    }
  ]
}