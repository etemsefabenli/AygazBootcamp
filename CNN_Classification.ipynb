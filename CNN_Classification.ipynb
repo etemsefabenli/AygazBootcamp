{
  "nbformat": 4,
  "nbformat_minor": 0,
  "metadata": {
    "colab": {
      "provenance": [],
      "toc_visible": true,
      "gpuType": "T4"
    },
    "kernelspec": {
      "name": "python3",
      "display_name": "Python 3"
    },
    "language_info": {
      "name": "python"
    },
    "accelerator": "GPU"
  },
  "cells": [
    {
      "cell_type": "markdown",
      "source": [
        "#aygazgoruntuisleme\n",
        "\n",
        "\n"
      ],
      "metadata": {
        "id": "iK_2iyYKIKEl"
      }
    },
    {
      "cell_type": "code",
      "source": [
        "#This project was created for GlobalAIHub.\n",
        "#Its main purpose is to create a CNN (Convolutional Neural Network) model by extracting certain animal classes\n",
        "#from the given image pool and build a *Classification* algorithm."
      ],
      "metadata": {
        "id": "CKMbFrVUOokW"
      },
      "execution_count": null,
      "outputs": []
    },
    {
      "cell_type": "markdown",
      "source": [
        "## 1-Installing the necessary **libraries**"
      ],
      "metadata": {
        "id": "2mqk39DBOv_o"
      }
    },
    {
      "cell_type": "markdown",
      "source": [
        "**Libraries for Analysis:**\n",
        "\n",
        "- **os**: Used for file and directory operations, such as accessing folders or managing files.  \n",
        "- **numpy**: A powerful library for mathematical computations, arrays, and matrix operations.  \n",
        "- **cv2** (OpenCV): Facilitates image processing tasks, including reading, editing, and manipulating images.  \n",
        "- **kagglehub**: Provides quick access to and management of Kaggle datasets.  \n",
        "- **random**: Used for generating random numbers, shuffling data, and random selection.\n",
        "- **shutil**: Provides a high-level interface for file operations. It is commonly used for tasks such as copying, moving, renaming, or removing files and directories. Additionally, it includes advanced features like archiving directories into formats such as ZIP or TAR and disk usage analysis.\n",
        "\n",
        "**TensorFlow and Related Components:**\n",
        "\n",
        "- **tensorflow**: An open-source library for building and training deep learning models.  \n",
        "- **ImageDataGenerator**: Handles data augmentation and preprocessing to increase data diversity and robustness during training.  \n",
        "- **Sequential**: Allows for arranging model layers in a linear stack.  \n",
        "- **Conv2D**: Performs 2D convolution operations to extract features from images.  \n",
        "- **MaxPooling2D**: Reduces the spatial dimensions of the feature maps while retaining important features.  \n",
        "- **Flatten**: Converts multi-dimensional data into one-dimensional arrays.  \n",
        "- **Dense**: Adds fully connected layers to the model.  \n",
        "- **Dropout**: Prevents overfitting by randomly disabling some neurons during training.  \n",
        "- **Input**: Defines the input layer of the model.  \n",
        "- **Adam**: A widely used optimization algorithm for training deep learning models.  \n",
        "\n",
        "**Data Visualization and Processing:**\n",
        "\n",
        "- **matplotlib.pyplot**: A library for data visualization, enabling the creation of graphs, histograms, and other visual representations.  \n",
        "- **train_test_split**: Splits the dataset into training and testing subsets.  \n",
        "- **LabelEncoder**: Converts categorical data into numerical format.  \n",
        "- **to_categorical**: Transforms numerical labels into one-hot encoding.  \n"
      ],
      "metadata": {
        "id": "NMck1KUCIXhQ"
      }
    },
    {
      "cell_type": "code",
      "source": [
        "import os\n",
        "import numpy as np\n",
        "import cv2\n",
        "import kagglehub\n",
        "import random\n",
        "import shutil\n",
        "\n",
        "import tensorflow as tf\n",
        "import matplotlib.pyplot as plt\n",
        "\n",
        "from sklearn.model_selection import train_test_split\n",
        "from sklearn.preprocessing import LabelEncoder\n",
        "from tensorflow.keras.utils import to_categorical\n",
        "from tensorflow.keras.preprocessing.image import ImageDataGenerator\n",
        "from tensorflow.keras.models import Sequential\n",
        "from tensorflow.keras.layers import Conv2D, MaxPooling2D, Flatten, Dense, Dropout, Input\n",
        "from tensorflow.keras.optimizers import Adam\n"
      ],
      "metadata": {
        "id": "aiENuScrTnvB"
      },
      "execution_count": 1,
      "outputs": []
    },
    {
      "cell_type": "markdown",
      "source": [
        "##2-Obtaining the data set and preprocces"
      ],
      "metadata": {
        "id": "zaeTM4fJNK1c"
      }
    },
    {
      "cell_type": "markdown",
      "source": [
        "### 2.1 - Dataset filter method"
      ],
      "metadata": {
        "id": "EZu-hH9-Wi9Q"
      }
    },
    {
      "cell_type": "markdown",
      "source": [
        "A method for filtering and weight balancing the dataset obtained through Kagglehub (taking the same number of data samples from all of them) and saving the resulting image pool to the system."
      ],
      "metadata": {
        "id": "55_Zv-BOJfG7"
      }
    },
    {
      "cell_type": "code",
      "source": [
        "#Dataset filter method\n",
        "\n",
        "def create_filtered_dataset(source_dir, target_dir, selected_animals, max_images_per_animal):\n",
        "\n",
        "    if not os.path.exists(target_dir):\n",
        "        os.makedirs(target_dir)\n",
        "\n",
        "    for animal in selected_animals:\n",
        "        source_animal_dir = os.path.join(source_dir, animal)\n",
        "        target_animal_dir = os.path.join(target_dir, animal)\n",
        "\n",
        "        if not os.path.exists(source_animal_dir):\n",
        "            print(f\"folder not found: {source_animal_dir}\")\n",
        "            continue\n",
        "\n",
        "        if not os.path.exists(target_animal_dir):\n",
        "            os.makedirs(target_animal_dir)\n",
        "\n",
        "        # Take all pic in folder\n",
        "        all_images = [f for f in os.listdir(source_animal_dir) if os.path.isfile(os.path.join(source_animal_dir, f))]\n",
        "\n",
        "        # Shuffle the images and select the specified amount\n",
        "        selected_images = random.sample(all_images, min(len(all_images), max_images_per_animal))\n",
        "\n",
        "        for image in selected_images:\n",
        "            source_image_path = os.path.join(source_animal_dir, image)\n",
        "            target_image_path = os.path.join(target_animal_dir, image)\n",
        "\n",
        "            shutil.copy(source_image_path, target_image_path)\n",
        "\n",
        "\n",
        "\n",
        "    print(\"Copy Succesfull!\")"
      ],
      "metadata": {
        "id": "OUcJJ3rpR8gc"
      },
      "execution_count": 2,
      "outputs": []
    },
    {
      "cell_type": "markdown",
      "source": [
        "###2.2 - **Download** the dataset from \"Kaggle\""
      ],
      "metadata": {
        "id": "Bb4TRjFUWqmd"
      }
    },
    {
      "cell_type": "code",
      "source": [
        "#Download the dataset from \"Kaggle\"\n",
        "\n",
        "rrebirrth_animals_with_attributes_2_path = kagglehub.dataset_download('rrebirrth/animals-with-attributes-2')\n",
        "\n",
        "print('Data source import complete.')\n",
        "\n",
        "# Initialize the dictionary to hold paths for each animal\n",
        "image_paths = {}\n",
        "\n",
        "#Base directory for your dataset\n",
        "base_path = \"/root/.cache/kagglehub/datasets/rrebirrth/animals-with-attributes-2/versions/1/Animals_with_Attributes2/JPEGImages/\"\n",
        "\n",
        "#Target directory for new dataset\n",
        "target_path = \"filteredImages\"\n",
        "\n",
        "#List of animals to search for\n",
        "selected_animals = [\"collie\", \"dolphin\", \"elephant\", \"fox\", \"moose\", \"rabbit\", \"sheep\", \"squirrel\", \"giant+panda\", \"polar+bear\"]\n",
        "\n",
        "#How many images to get from each class\n",
        "images_per_class = 650\n",
        "\n",
        "#Call methods for filter\n",
        "create_filtered_dataset(base_path, target_path, selected_animals, images_per_class)"
      ],
      "metadata": {
        "id": "5SH3cXOmTqsS",
        "colab": {
          "base_uri": "https://localhost:8080/"
        },
        "collapsed": true,
        "outputId": "44a18deb-88a1-4397-a94b-3491c2a629e2"
      },
      "execution_count": 3,
      "outputs": [
        {
          "output_type": "stream",
          "name": "stdout",
          "text": [
            "Warning: Looks like you're using an outdated `kagglehub` version (installed: 0.3.5), please consider upgrading to the latest version (0.3.6).\n",
            "Downloading from https://www.kaggle.com/api/v1/datasets/download/rrebirrth/animals-with-attributes-2?dataset_version_number=1...\n"
          ]
        },
        {
          "output_type": "stream",
          "name": "stderr",
          "text": [
            "100%|██████████| 13.0G/13.0G [02:04<00:00, 112MB/s]"
          ]
        },
        {
          "output_type": "stream",
          "name": "stdout",
          "text": [
            "Extracting files...\n"
          ]
        },
        {
          "output_type": "stream",
          "name": "stderr",
          "text": [
            "\n"
          ]
        },
        {
          "output_type": "stream",
          "name": "stdout",
          "text": [
            "Data source import complete.\n",
            "Copy Succesfull!\n"
          ]
        }
      ]
    },
    {
      "cell_type": "markdown",
      "source": [
        "###2.3 - Resizing and Normalization Method\n",
        "\n",
        "\n"
      ],
      "metadata": {
        "id": "ynWUgWXBWejQ"
      }
    },
    {
      "cell_type": "markdown",
      "source": [
        "The data we get may not come from a single source. For this reason, in the *preprocces* part, we need to download and *normalize* this data to the same size. This code block does this."
      ],
      "metadata": {
        "id": "D_2Ns4TZKKbR"
      }
    },
    {
      "cell_type": "code",
      "source": [
        "#Resize and Normalization\n",
        "def load_and_process_images(data_dir, image_size=(128, 128)):\n",
        "    images = []\n",
        "    labels = []\n",
        "    for class_name in os.listdir(data_dir):\n",
        "        class_path = os.path.join(data_dir, class_name)\n",
        "        if os.path.isdir(class_path):\n",
        "            for file_name in os.listdir(class_path):\n",
        "                file_path = os.path.join(class_path, file_name)\n",
        "                img = cv2.imread(file_path)\n",
        "                if img is not None:\n",
        "                    img_resized = cv2.resize(img, image_size)\n",
        "                    img_normalized = img_resized / 255.0\n",
        "                    images.append(img_normalized)\n",
        "                    labels.append(class_name)\n",
        "    return np.array(images), np.array(labels)"
      ],
      "metadata": {
        "id": "KQNmyloeSAd2"
      },
      "execution_count": 4,
      "outputs": []
    },
    {
      "cell_type": "markdown",
      "source": [
        "####2.3.1 - Resizing and Normalization"
      ],
      "metadata": {
        "id": "G1km0u90eJju"
      }
    },
    {
      "cell_type": "code",
      "source": [
        "data_dir = target_path\n",
        "\n",
        "X, y = load_and_process_images(data_dir)\n",
        "\n",
        "print(f\"dataset size: {X.shape}\")"
      ],
      "metadata": {
        "id": "mD7tMPwZeJpp",
        "colab": {
          "base_uri": "https://localhost:8080/"
        },
        "outputId": "4515b4c3-ea50-49eb-c66d-dc46cc7a12ef"
      },
      "execution_count": 5,
      "outputs": [
        {
          "output_type": "stream",
          "name": "stdout",
          "text": [
            "dataset size: (6500, 128, 128, 3)\n"
          ]
        }
      ]
    },
    {
      "cell_type": "markdown",
      "source": [
        "The properties of the dataset size in the code we get as output\n",
        "\n",
        "* 6500 visuals\n",
        "* 128x128 pixels each\n",
        "\n"
      ],
      "metadata": {
        "id": "MxBstyO9KiJO"
      }
    },
    {
      "cell_type": "markdown",
      "source": [
        "###2.4 - Train-Test Split\n"
      ],
      "metadata": {
        "id": "liD07R5OhVzR"
      }
    },
    {
      "cell_type": "markdown",
      "source": [
        "In order to be able to test the accuracy of our model as well as train it, we need to keep some of our entire data pool to test our model. The ratio is usually 70%-30% or 80%-20%. I choose the one with more test data for a more detailed test."
      ],
      "metadata": {
        "id": "be1Ss1JFK0uy"
      }
    },
    {
      "cell_type": "code",
      "source": [
        "encoder = LabelEncoder()\n",
        "y_encoded = encoder.fit_transform(y)\n",
        "y_categorical = to_categorical(y_encoded)\n",
        "\n",
        "# Split the dataset(%70 for Train, %30 for Test)\n",
        "X_train, X_test, y_train, y_test = train_test_split(X, y_categorical, test_size=0.3, random_state=40)\n",
        "print(f\"Trained data size: {X_train.shape}, Test data size: {X_test.shape}\")"
      ],
      "metadata": {
        "id": "ed85yJEFkPlp",
        "colab": {
          "base_uri": "https://localhost:8080/"
        },
        "outputId": "eac12529-4dd7-4431-ccc1-288fe8bf16a9"
      },
      "execution_count": 6,
      "outputs": [
        {
          "output_type": "stream",
          "name": "stdout",
          "text": [
            "Trained data size: (4550, 128, 128, 3), Test data size: (1950, 128, 128, 3)\n"
          ]
        }
      ]
    },
    {
      "cell_type": "markdown",
      "source": [
        "##3- Augmentation"
      ],
      "metadata": {
        "id": "1fDQIL3Lp2cy"
      }
    },
    {
      "cell_type": "markdown",
      "source": [
        "In image processing, augmentation refers to the process of applying transformations to images to artificially increase the size and diversity of a dataset. This includes operations like rotation, flipping, scaling, cropping, shifting, or adding noise. It helps improve a model's generalization ability by simulating variations in the data. Params:\n",
        "\n",
        "*   rotation_range=20: Randomly rotates the images by up to 20 degrees.\n",
        "*   width_shift_range=0.2: Randomly shifts the image horizontally by 20% of its width.\n",
        "*   height_shift_range=0.2: Randomly shifts the image vertically by 20% of its height.\n",
        "*   shear_range=0.2: Applies random shear transformations (distorting the image by slanting it).\n",
        "*   zoom_range=0.2: Randomly zooms in or out of the image by 20%.\n",
        "*   horizontal_flip=True: Randomly flips the images horizontally.\n",
        "*   fill_mode='nearest': Fills in the empty pixels created by transformations with the nearest pixel values.\n",
        "\n",
        "\n",
        "\n"
      ],
      "metadata": {
        "id": "RnsN2EIiMyNI"
      }
    },
    {
      "cell_type": "code",
      "source": [
        "datagen = ImageDataGenerator(\n",
        "    rotation_range=20,\n",
        "    width_shift_range=0.2,\n",
        "    height_shift_range=0.2,\n",
        "    shear_range=0.2,\n",
        "    zoom_range=0.2,\n",
        "    horizontal_flip=True,\n",
        "    fill_mode='nearest'\n",
        ")\n",
        "datagen.fit(X_train)"
      ],
      "metadata": {
        "id": "H_3kLWl-p2na"
      },
      "execution_count": 7,
      "outputs": []
    },
    {
      "cell_type": "markdown",
      "source": [
        "##4-Create the CNN Model"
      ],
      "metadata": {
        "id": "VANp54Ev_e3b"
      }
    },
    {
      "cell_type": "markdown",
      "source": [
        "Here’s a step-by-step explanation of the code in simple English:  \n",
        "\n",
        "1. **Model Definition**:\n",
        "   - A **Sequential** model is created with a series of layers.  \n",
        "   - The input shape is defined as `(128, 128, 3)`, representing 128x128 RGB images.  \n",
        "   - The layers include:\n",
        "     - A **Conv2D** layer with 32 filters and a `(3, 3)` kernel, using ReLU activation.\n",
        "     - A **MaxPooling2D** layer to reduce spatial dimensions.\n",
        "     - A **Flatten** layer to convert 2D feature maps into a 1D vector.\n",
        "     - Two **Dense** layers:\n",
        "       - One with 128 neurons and ReLU activation.\n",
        "       - One with 10 neurons and softmax activation for multi-class classification.\n",
        "\n",
        "2. **Model Compilation**:\n",
        "   - The model is compiled with the **Adam** optimizer, a learning rate of `0.001`.\n",
        "   - The loss function is **categorical_crossentropy**, suitable for multi-class classification.\n",
        "   - **Accuracy** is used as the evaluation metric.\n",
        "\n",
        "3. **Data Augmentation**:\n",
        "   - An `ImageDataGenerator` object is created to apply real-time data augmentation:\n",
        "     - Images are rotated by up to 20 degrees.\n",
        "     - Shifted horizontally and vertically by up to 10% of the image size.\n",
        "     - Randomly flipped horizontally.\n",
        "\n",
        "4. **Data Generators**:\n",
        "   - **Training and validation data generators** (`train_generator` and `validation_generator`) are created using `datagen.flow`.\n",
        "   - The generators take batches of size `32` from `X_train`/`y_train` and `X_test`/`y_test`.\n",
        "\n",
        "5. **Steps Per Epoch**:\n",
        "   - **`steps_per_epoch`** is calculated as the total number of training samples divided by the batch size.\n",
        "   - **`validation_steps`** is calculated similarly for the validation data.\n",
        "\n",
        "6. **Model Training**:\n",
        "   - The model is trained using the **`fit`** method:\n",
        "     - **`train_generator`** is used as the training data.\n",
        "     - **`validation_generator`** is used as validation data.\n",
        "     - The model is trained for **20 epochs**.\n",
        "     - The training process involves `steps_per_epoch` steps for each epoch and `validation_steps` steps for validation.  \n",
        "\n",
        "This process trains a Convolutional Neural Network (CNN) to classify images into 10 categories using augmented data for improved generalization."
      ],
      "metadata": {
        "id": "c1VaHdVfQjly"
      }
    },
    {
      "cell_type": "code",
      "source": [
        "# model\n",
        "model = Sequential([\n",
        "    Input(shape=(128, 128, 3)),  # Burada Input kullanılıyor\n",
        "    Conv2D(32, (3, 3), activation='relu'),\n",
        "    MaxPooling2D(pool_size=(2, 2)),\n",
        "    Flatten(),\n",
        "    Dense(128, activation='relu'),\n",
        "    Dense(10, activation='softmax')\n",
        "])\n",
        "\n",
        "# compile\n",
        "model.compile(\n",
        "    optimizer=Adam(learning_rate=0.001),\n",
        "    loss='categorical_crossentropy',\n",
        "    metrics=['accuracy']\n",
        ")\n",
        "# augmentation\n",
        "datagen = ImageDataGenerator(\n",
        "    rotation_range=20,\n",
        "    width_shift_range=0.1,\n",
        "    height_shift_range=0.1,\n",
        "    horizontal_flip=True\n",
        ")\n",
        "\n",
        "# traing and test generator\n",
        "train_generator = datagen.flow(X_train, y_train, batch_size=32)\n",
        "validation_generator = datagen.flow(X_test, y_test, batch_size=32)\n",
        "\n",
        "# steps_per_epoch ve validation_steps\n",
        "steps_per_epoch = len(X_train) // 32\n",
        "validation_steps = len(X_test) // 32\n",
        "\n",
        "# train the cnn model\n",
        "history = model.fit(\n",
        "    train_generator,\n",
        "    validation_data=validation_generator,\n",
        "    epochs=20,\n",
        "    steps_per_epoch=steps_per_epoch,\n",
        "    validation_steps=validation_steps\n",
        ")"
      ],
      "metadata": {
        "id": "amn3TdG6_eu1",
        "colab": {
          "base_uri": "https://localhost:8080/"
        },
        "outputId": "a7ca2684-fb76-451d-ea44-87038b9becac"
      },
      "execution_count": 8,
      "outputs": [
        {
          "output_type": "stream",
          "name": "stdout",
          "text": [
            "Epoch 1/20\n"
          ]
        },
        {
          "output_type": "stream",
          "name": "stderr",
          "text": [
            "/usr/local/lib/python3.10/dist-packages/keras/src/trainers/data_adapters/py_dataset_adapter.py:122: UserWarning: Your `PyDataset` class should call `super().__init__(**kwargs)` in its constructor. `**kwargs` can include `workers`, `use_multiprocessing`, `max_queue_size`. Do not pass these arguments to `fit()`, as they will be ignored.\n",
            "  self._warn_if_super_not_called()\n"
          ]
        },
        {
          "output_type": "stream",
          "name": "stdout",
          "text": [
            "\u001b[1m142/142\u001b[0m \u001b[32m━━━━━━━━━━━━━━━━━━━━\u001b[0m\u001b[37m\u001b[0m \u001b[1m33s\u001b[0m 192ms/step - accuracy: 0.2514 - loss: 4.8616 - val_accuracy: 0.4458 - val_loss: 1.6471\n",
            "Epoch 2/20\n",
            "\u001b[1m  1/142\u001b[0m \u001b[37m━━━━━━━━━━━━━━━━━━━━\u001b[0m \u001b[1m3s\u001b[0m 23ms/step - accuracy: 0.5625 - loss: 1.5629"
          ]
        },
        {
          "output_type": "stream",
          "name": "stderr",
          "text": [
            "/usr/lib/python3.10/contextlib.py:153: UserWarning: Your input ran out of data; interrupting training. Make sure that your dataset or generator can generate at least `steps_per_epoch * epochs` batches. You may need to use the `.repeat()` function when building your dataset.\n",
            "  self.gen.throw(typ, value, traceback)\n"
          ]
        },
        {
          "output_type": "stream",
          "name": "stdout",
          "text": [
            "\b\b\b\b\b\b\b\b\b\b\b\b\b\b\b\b\b\b\b\b\b\b\b\b\b\b\b\b\b\b\b\b\b\b\b\b\b\b\b\b\b\b\b\b\b\b\b\b\b\b\b\b\b\b\b\b\b\b\b\b\b\b\b\b\b\b\b\b\b\b\b\b\b\b\b\r\u001b[1m142/142\u001b[0m \u001b[32m━━━━━━━━━━━━━━━━━━━━\u001b[0m\u001b[37m\u001b[0m \u001b[1m1s\u001b[0m 8ms/step - accuracy: 0.5625 - loss: 1.5629 - val_accuracy: 0.5333 - val_loss: 1.6305\n",
            "Epoch 3/20\n",
            "\u001b[1m142/142\u001b[0m \u001b[32m━━━━━━━━━━━━━━━━━━━━\u001b[0m\u001b[37m\u001b[0m \u001b[1m34s\u001b[0m 184ms/step - accuracy: 0.4728 - loss: 1.5788 - val_accuracy: 0.4948 - val_loss: 1.4851\n",
            "Epoch 4/20\n",
            "\u001b[1m142/142\u001b[0m \u001b[32m━━━━━━━━━━━━━━━━━━━━\u001b[0m\u001b[37m\u001b[0m \u001b[1m0s\u001b[0m 693us/step - accuracy: 0.4375 - loss: 1.6055 - val_accuracy: 0.6333 - val_loss: 1.4156\n",
            "Epoch 5/20\n",
            "\u001b[1m142/142\u001b[0m \u001b[32m━━━━━━━━━━━━━━━━━━━━\u001b[0m\u001b[37m\u001b[0m \u001b[1m26s\u001b[0m 177ms/step - accuracy: 0.5173 - loss: 1.4181 - val_accuracy: 0.4943 - val_loss: 1.4809\n",
            "Epoch 6/20\n",
            "\u001b[1m142/142\u001b[0m \u001b[32m━━━━━━━━━━━━━━━━━━━━\u001b[0m\u001b[37m\u001b[0m \u001b[1m0s\u001b[0m 652us/step - accuracy: 0.6875 - loss: 1.3800 - val_accuracy: 0.5000 - val_loss: 1.6945\n",
            "Epoch 7/20\n",
            "\u001b[1m142/142\u001b[0m \u001b[32m━━━━━━━━━━━━━━━━━━━━\u001b[0m\u001b[37m\u001b[0m \u001b[1m25s\u001b[0m 172ms/step - accuracy: 0.5326 - loss: 1.3399 - val_accuracy: 0.5396 - val_loss: 1.4223\n",
            "Epoch 8/20\n",
            "\u001b[1m142/142\u001b[0m \u001b[32m━━━━━━━━━━━━━━━━━━━━\u001b[0m\u001b[37m\u001b[0m \u001b[1m0s\u001b[0m 683us/step - accuracy: 0.5938 - loss: 1.2222 - val_accuracy: 0.6000 - val_loss: 1.1781\n",
            "Epoch 9/20\n",
            "\u001b[1m142/142\u001b[0m \u001b[32m━━━━━━━━━━━━━━━━━━━━\u001b[0m\u001b[37m\u001b[0m \u001b[1m26s\u001b[0m 176ms/step - accuracy: 0.5643 - loss: 1.3007 - val_accuracy: 0.5240 - val_loss: 1.4423\n",
            "Epoch 10/20\n",
            "\u001b[1m142/142\u001b[0m \u001b[32m━━━━━━━━━━━━━━━━━━━━\u001b[0m\u001b[37m\u001b[0m \u001b[1m0s\u001b[0m 678us/step - accuracy: 0.5312 - loss: 1.3279 - val_accuracy: 0.6667 - val_loss: 1.0904\n",
            "Epoch 11/20\n",
            "\u001b[1m142/142\u001b[0m \u001b[32m━━━━━━━━━━━━━━━━━━━━\u001b[0m\u001b[37m\u001b[0m \u001b[1m41s\u001b[0m 175ms/step - accuracy: 0.5593 - loss: 1.2762 - val_accuracy: 0.5417 - val_loss: 1.3357\n",
            "Epoch 12/20\n",
            "\u001b[1m142/142\u001b[0m \u001b[32m━━━━━━━━━━━━━━━━━━━━\u001b[0m\u001b[37m\u001b[0m \u001b[1m0s\u001b[0m 662us/step - accuracy: 0.5000 - loss: 1.4040 - val_accuracy: 0.4667 - val_loss: 1.6300\n",
            "Epoch 13/20\n",
            "\u001b[1m142/142\u001b[0m \u001b[32m━━━━━━━━━━━━━━━━━━━━\u001b[0m\u001b[37m\u001b[0m \u001b[1m25s\u001b[0m 173ms/step - accuracy: 0.5751 - loss: 1.2490 - val_accuracy: 0.5323 - val_loss: 1.3984\n",
            "Epoch 14/20\n",
            "\u001b[1m142/142\u001b[0m \u001b[32m━━━━━━━━━━━━━━━━━━━━\u001b[0m\u001b[37m\u001b[0m \u001b[1m0s\u001b[0m 805us/step - accuracy: 0.5000 - loss: 1.4170 - val_accuracy: 0.5000 - val_loss: 1.3058\n",
            "Epoch 15/20\n",
            "\u001b[1m142/142\u001b[0m \u001b[32m━━━━━━━━━━━━━━━━━━━━\u001b[0m\u001b[37m\u001b[0m \u001b[1m27s\u001b[0m 185ms/step - accuracy: 0.5691 - loss: 1.2259 - val_accuracy: 0.5745 - val_loss: 1.2994\n",
            "Epoch 16/20\n",
            "\u001b[1m142/142\u001b[0m \u001b[32m━━━━━━━━━━━━━━━━━━━━\u001b[0m\u001b[37m\u001b[0m \u001b[1m0s\u001b[0m 719us/step - accuracy: 0.6250 - loss: 1.1002 - val_accuracy: 0.6667 - val_loss: 1.0106\n",
            "Epoch 17/20\n",
            "\u001b[1m142/142\u001b[0m \u001b[32m━━━━━━━━━━━━━━━━━━━━\u001b[0m\u001b[37m\u001b[0m \u001b[1m39s\u001b[0m 173ms/step - accuracy: 0.5927 - loss: 1.1689 - val_accuracy: 0.5484 - val_loss: 1.3186\n",
            "Epoch 18/20\n",
            "\u001b[1m142/142\u001b[0m \u001b[32m━━━━━━━━━━━━━━━━━━━━\u001b[0m\u001b[37m\u001b[0m \u001b[1m0s\u001b[0m 665us/step - accuracy: 0.6250 - loss: 1.3127 - val_accuracy: 0.6667 - val_loss: 1.1151\n",
            "Epoch 19/20\n",
            "\u001b[1m142/142\u001b[0m \u001b[32m━━━━━━━━━━━━━━━━━━━━\u001b[0m\u001b[37m\u001b[0m \u001b[1m25s\u001b[0m 173ms/step - accuracy: 0.6051 - loss: 1.1584 - val_accuracy: 0.5589 - val_loss: 1.3186\n",
            "Epoch 20/20\n",
            "\u001b[1m142/142\u001b[0m \u001b[32m━━━━━━━━━━━━━━━━━━━━\u001b[0m\u001b[37m\u001b[0m \u001b[1m0s\u001b[0m 652us/step - accuracy: 0.6875 - loss: 1.1631 - val_accuracy: 0.5333 - val_loss: 1.5104\n"
          ]
        }
      ]
    },
    {
      "cell_type": "markdown",
      "source": [
        "The validation accuracy and loss of the model improved during the training process, especially after Epoch 12. However, the fluctuations in training accuracy suggest that the model may overfit. To improve the model, work can be done on the learning rate, model structure and regularization techniques. Also, the impact of data augmentation techniques can be increased and the overall performance can be improved by using more epochs."
      ],
      "metadata": {
        "id": "ijysR3IfTDYY"
      }
    },
    {
      "cell_type": "code",
      "source": [
        "#Model Test\n",
        "test_loss, test_accuracy = model.evaluate(X_test, y_test)\n",
        "print(f\"Test accuracy: {test_accuracy * 100:.2f}%\")"
      ],
      "metadata": {
        "colab": {
          "base_uri": "https://localhost:8080/"
        },
        "id": "Q0a9CL9GA2AZ",
        "outputId": "3366ccf3-db7e-4a41-aad3-e15725a77244"
      },
      "execution_count": 9,
      "outputs": [
        {
          "output_type": "stream",
          "name": "stdout",
          "text": [
            "\u001b[1m61/61\u001b[0m \u001b[32m━━━━━━━━━━━━━━━━━━━━\u001b[0m\u001b[37m\u001b[0m \u001b[1m1s\u001b[0m 12ms/step - accuracy: 0.5881 - loss: 1.2687\n",
            "Test accuracy: 57.90%\n"
          ]
        }
      ]
    },
    {
      "cell_type": "markdown",
      "source": [
        "test accuracy as desired (above 50%)"
      ],
      "metadata": {
        "id": "GZZTZwwisIZA"
      }
    },
    {
      "cell_type": "markdown",
      "source": [
        "###4.2 - Model Test and Data Visualise"
      ],
      "metadata": {
        "id": "DO9q9-aGKcAT"
      }
    },
    {
      "cell_type": "code",
      "source": [
        "# Extract training and validation values and determine epochs\n",
        "acc, val_acc, loss, val_loss, epochs = history.history['accuracy'], history.history['val_accuracy'], history.history['loss'], history.history['val_loss'], range(1, len(history.history['accuracy']) + 1)\n",
        "\n",
        "# Training and verification accuracy\n",
        "plt.figure(figsize=(10, 4))\n",
        "plt.subplot(1, 2, 1); plt.plot(epochs, acc, 'b-', label='Training'); plt.plot(epochs, val_acc, 'r-', label='Validation'); plt.title('Accuracy'); plt.xlabel('Epochs'); plt.ylabel('Accuracy'); plt.legend()\n",
        "\n",
        "plt.tight_layout(); plt.show()\n"
      ],
      "metadata": {
        "colab": {
          "base_uri": "https://localhost:8080/",
          "height": 407
        },
        "id": "CGYGKMwoKb52",
        "outputId": "461ad7df-effb-43a5-a459-52bec0d7e56b"
      },
      "execution_count": 10,
      "outputs": [
        {
          "output_type": "display_data",
          "data": {
            "text/plain": [
              "<Figure size 1000x400 with 1 Axes>"
            ],
            "image/png": "[encoded data removed]"
          },
          "metadata": {}
        }
      ]
    },
    {
      "cell_type": "markdown",
      "source": [
        "This chart illustrates the changes in training and validation accuracy across epochs.\n",
        "\n",
        "- The training accuracy (blue line) initially shows a fluctuating increase and stabilizes after certain epochs.  \n",
        "- The validation accuracy (red line) generally follows the training accuracy closely but exhibits more fluctuations.  \n",
        "- The small gap between training and validation accuracy indicates a low risk of overfitting.  \n",
        "- Overall, model performance is improving, but the fluctuations in validation accuracy suggest that the model struggles to learn effectively in certain epochs.  \n",
        "\n",
        "In conclusion, the model demonstrates good overall performance, but the variability in validation accuracy indicates room for further improvement."
      ],
      "metadata": {
        "id": "cCCRD1e7tCzc"
      }
    },
    {
      "cell_type": "markdown",
      "source": [
        "##5 - Manipulate Methods"
      ],
      "metadata": {
        "id": "ycO3xNNHZpRo"
      }
    },
    {
      "cell_type": "markdown",
      "source": [
        "We need to test the model again under different lights to see if the model is consistent. This method allows us to examine images under different lighting."
      ],
      "metadata": {
        "id": "GTTgB5VyvDG2"
      }
    },
    {
      "cell_type": "code",
      "source": [
        "## Manipulate Methods.\n",
        "def get_manipulated_images(images):\n",
        "    manipulated_images = []\n",
        "    for img in images:\n",
        "        manipulated = cv2.convertScaleAbs(img, alpha=0.8, beta=30)\n",
        "        manipulated_images.append(manipulated)\n",
        "    return np.array(manipulated_images)\n"
      ],
      "metadata": {
        "id": "Ny4ePl98ZpZp"
      },
      "execution_count": 11,
      "outputs": []
    },
    {
      "cell_type": "markdown",
      "source": [
        "###5.1 - Manipulate Images"
      ],
      "metadata": {
        "id": "BH-A4UZXacBT"
      }
    },
    {
      "cell_type": "code",
      "source": [
        "X_test_manipulated = get_manipulated_images(X_test)\n",
        "manipulated_loss, manipulated_accuracy = model.evaluate(X_test_manipulated, y_test)\n",
        "print(f\"Model accuracy on manipulated data set:{manipulated_accuracy * 100:.2f}\")"
      ],
      "metadata": {
        "id": "KcFEX3m_ablw",
        "colab": {
          "base_uri": "https://localhost:8080/"
        },
        "outputId": "a501ca8a-e1bc-40ea-9056-f0e2c7c1347a"
      },
      "execution_count": 12,
      "outputs": [
        {
          "output_type": "stream",
          "name": "stdout",
          "text": [
            "\u001b[1m61/61\u001b[0m \u001b[32m━━━━━━━━━━━━━━━━━━━━\u001b[0m\u001b[37m\u001b[0m \u001b[1m2s\u001b[0m 13ms/step - accuracy: 0.0976 - loss: 151.4443\n",
            "Model accuracy on manipulated data set:9.90\n"
          ]
        }
      ]
    },
    {
      "cell_type": "markdown",
      "source": [
        "The test shows that the model's ability to analyze in different environments is low (approx. 10%), while the loss value is very high (approx. 250,000)."
      ],
      "metadata": {
        "id": "XdfaFmrHvX1g"
      }
    },
    {
      "cell_type": "markdown",
      "source": [
        "##6 - Gray World Algorithm"
      ],
      "metadata": {
        "id": "Ez_ACWjw_IjJ"
      }
    },
    {
      "cell_type": "code",
      "source": [
        "def apply_gray_world(image):\n",
        "    avg_b, avg_g, avg_r = cv2.mean(image)[:3]\n",
        "    gray_value = (avg_b + avg_g + avg_r) / 3\n",
        "    scaling_factors = np.array([gray_value / avg_b, gray_value / avg_g, gray_value / avg_r])\n",
        "    corrected_image = image * scaling_factors\n",
        "    corrected_image = np.clip(corrected_image, 0, 255).astype(np.uint8)\n",
        "    return corrected_image\n"
      ],
      "metadata": {
        "id": "fFojMBUY_IcA"
      },
      "execution_count": 13,
      "outputs": []
    },
    {
      "cell_type": "code",
      "source": [
        "X_test_corrected = np.array([apply_gray_world(img) for img in X_test_manipulated])\n",
        "\n",
        "corrected_loss, corrected_accuracy = model.evaluate(X_test_corrected, y_test)\n",
        "print(f\"Test Accuracy with Color Constancy Applied: {corrected_accuracy * 100:.2f}%\")"
      ],
      "metadata": {
        "colab": {
          "base_uri": "https://localhost:8080/"
        },
        "id": "37s5bRod_X6U",
        "outputId": "a482f8ce-bb42-464e-9d8f-869a658499ed"
      },
      "execution_count": 14,
      "outputs": [
        {
          "output_type": "stream",
          "name": "stdout",
          "text": [
            "\u001b[1m61/61\u001b[0m \u001b[32m━━━━━━━━━━━━━━━━━━━━\u001b[0m\u001b[37m\u001b[0m \u001b[1m0s\u001b[0m 3ms/step - accuracy: 0.0976 - loss: 152.5179\n",
            "Test Accuracy with Color Constancy Applied: 9.90%\n"
          ]
        }
      ]
    },
    {
      "cell_type": "markdown",
      "source": [
        "The model exhibits a low accuracy rate (9.7%) on the color-fixed test data. This suggests that the model struggles to adapt to color changes and manipulations in lighting conditions. For performance improvements, approaches such as data augmentation, model reconstruction or transfer learning could be considered."
      ],
      "metadata": {
        "id": "GVYSnrTqwmsk"
      }
    },
    {
      "cell_type": "markdown",
      "source": [
        "##7 - Results"
      ],
      "metadata": {
        "id": "nacwVVW0AJHI"
      }
    },
    {
      "cell_type": "code",
      "source": [
        "print(\"Results:\")\n",
        "print(f\"Original Test Set Accuracy: {test_accuracy * 100:.2f}%\")\n",
        "print(f\"Manipulated Test Set Accuracy: {manipulated_accuracy * 100:.2f}%\")\n",
        "print(f\"Test Set Accuracy with Color Constancy Applied: {corrected_accuracy * 100:.2f}%\")"
      ],
      "metadata": {
        "colab": {
          "base_uri": "https://localhost:8080/"
        },
        "id": "xJYYFsnc_7Ui",
        "outputId": "7c5dc557-3024-4693-8232-f71d1886314d"
      },
      "execution_count": 15,
      "outputs": [
        {
          "output_type": "stream",
          "name": "stdout",
          "text": [
            "Results:\n",
            "Original Test Set Accuracy: 57.90%\n",
            "Manipulated Test Set Accuracy: 9.90%\n",
            "Test Set Accuracy with Color Constancy Applied: 9.90%\n"
          ]
        }
      ]
    },
    {
      "cell_type": "markdown",
      "source": [
        "###7.1 Interpretation of Results\n",
        "\n",
        "Observations: A significant decrease in accuracy was observed between the original test set and the manipulated test set.\n",
        "\n",
        "Improvement: The application of color constancy did not lead to any noticeable improvement in the accuracy rate. The performance remained low after manipulation.\n",
        "\n",
        "Overall Comment: It can be concluded that the model is highly sensitive to changes in lighting conditions. However, adjustments like color constancy are insufficient to enhance accuracy. This analysis highlights how the model's performance is affected by environmental factors and its response to manipulations."
      ],
      "metadata": {
        "id": "FYHoBxMZw5rW"
      }
    }
  ]
}